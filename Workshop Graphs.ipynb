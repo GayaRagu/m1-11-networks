{
 "cells": [
  {
   "cell_type": "markdown",
   "metadata": {},
   "source": [
    "# Exercise 1: Graph Making\n",
    "\n",
    "Write a function called make_simple_graph that returns the graph object that represents the following diagram:\n",
    "\n",
    "![](exercise2.png)"
   ]
  },
  {
   "cell_type": "code",
   "execution_count": 1,
   "metadata": {},
   "outputs": [
    {
     "data": {
      "image/png": "[encoded data removed]",
      "text/plain": [
       "<Figure size 432x288 with 1 Axes>"
      ]
     },
     "metadata": {},
     "output_type": "display_data"
    }
   ],
   "source": [
    "import networkx as nx\n",
    "\n",
    "G = nx.Graph([('A','C'), ('A','E'), ('A','D'), ('D','B'), ('D','E'), ('C','E')])\n",
    "nx.draw_networkx(G,with_labels=True, font_weight='bold')"
   ]
  },
  {
   "cell_type": "markdown",
   "metadata": {},
   "source": [
    "## Exercise 1.2: computing diameter and node degrees of graphs\n",
    "\n",
    "For the graph made by your function in the previous exercise, calculate the diameter and the degrees of each node, and visually confirm those values by inspecting the above graph. Write a function `compute_diameter_and_degrees` which takes a networkx graph object as input, and returns a `dict` with the diameter and the degrees of all the nodes in the graph.\n",
    "\n",
    "**NOTE:** You cannot use a networkx function or method to compute the diameter or degrees. They have to be calculated yourself\n",
    "\n",
    "```\n",
    "\n",
    "compute_diameter_and_degrees(G) -> {\n",
    "    'diameter': 3,\n",
    "    'degree_A': 3,\n",
    "    'degree_B': 1,\n",
    "    'degree_C': 2,\n",
    "    'degree_D': 3,\n",
    "    'degree_E': 3,\n",
    "}"
   ]
  },
  {
   "cell_type": "code",
   "execution_count": 2,
   "metadata": {},
   "outputs": [
    {
     "data": {
      "text/plain": [
       "{('A', 'C'), ('A', 'D'), ('A', 'E'), ('C', 'E'), ('D', 'B'), ('E', 'D')}"
      ]
     },
     "execution_count": 2,
     "metadata": {},
     "output_type": "execute_result"
    }
   ],
   "source": [
    "res = {edge for edge in G.edges}\n",
    "res"
   ]
  },
  {
   "cell_type": "code",
   "execution_count": 3,
   "metadata": {},
   "outputs": [
    {
     "data": {
      "text/plain": [
       "{'A': 3, 'C': 2, 'E': 3, 'D': 3, 'B': 1}"
      ]
     },
     "execution_count": 3,
     "metadata": {},
     "output_type": "execute_result"
    }
   ],
   "source": [
    "res = []\n",
    "for n in G.degree:\n",
    "    res.append(n)\n",
    "dict(res)"
   ]
  },
  {
   "cell_type": "markdown",
   "metadata": {},
   "source": [
    "## Exercise 1.3: An airline route map graph\n",
    "\n",
    "CBDS Airlines has the following route map for the cities that it services, where every pair of cities has service in both directions between the cities:\n",
    "\n",
    "```\n",
    "routemap =  [('St. Louis', 'Miami'), ('St. Louis', 'San Diego'), ('St. Louis', 'Chicago'), ('San Diego', 'Chicago'), ('San Diego', 'San Francisco'), ('San Diego', 'Minneapolis'), ('San Diego', 'Boston'), ('San Diego', 'Portland'), ('San Diego', 'Seattle'), ('Tulsa', 'New York'), ('Tulsa', 'Dallas'), ('Phoenix', 'Cleveland'), ('Phoenix', 'Denver'), ('Phoenix', 'Dallas'), ('Chicago', 'New York'), ('Chicago', 'Los Angeles'), ('Miami', 'New York'), ('Miami', 'Philadelphia'), ('Miami', 'Denver'), ('Boston', 'Atlanta'), ('Dallas', 'Cleveland'), ('Dallas', 'Albuquerque'), ('Philadelphia', 'Atlanta'), ('Denver', 'Minneapolis'), ('Denver', 'Cleveland'), ('Albuquerque', 'Atlanta'), ('Minneapolis', 'Portland'), ('Los Angeles', 'Seattle'), ('San Francisco', 'Portland'), ('San Francisco', 'Seattle'), ('San Francisco', 'Cleveland'), ('Seattle', 'Portland')]\n",
    "\n",
    "```\n",
    "\n",
    "Copy this data into a networkX graph to answer the question.\n",
    "\n",
    "1. What is the maximum number of hops that would ever be taken by a passenger on a single trip between any two serviced cities?\n",
    "\n",
    "2. If you were a rich jet-setter traveling everywhere in across the country and were constrained to fly CBDS, which city would be the most optimal place for you to live, to minimize the number of hops you would have to make on average as you jet from home to your latest vacation spot?\n"
   ]
  },
  {
   "cell_type": "markdown",
   "metadata": {
    "colab_type": "text",
    "id": "J584qJB9M8uE"
   },
   "source": [
    "# Exercise 2\n",
    "\n",
    "Make an algorithm to generate [random walks](https://en.wikipedia.org/wiki/Random_walk) on a NetworkX graphs.\n",
    "\n",
    "The form is `random_walk(G, nodeid, length)` so the input should be a graph, node ID and the number of steps to take in the random walk. The output is a list of node IDs in the walks\n",
    "\n",
    "```\n",
    "\n",
    "G = nx.binomial_graph(25, 0.3, directed=True)\n",
    "\n",
    "# this output is random\n",
    "# don't try to reproduce it exactly\n",
    "random_walk(G, 3, 5) -> [3, 1, 4, 2, 3]\n",
    "```\n"
   ]
  },
  {
   "cell_type": "code",
   "execution_count": 4,
   "metadata": {},
   "outputs": [],
   "source": [
    "def random_walk(G, node, steps):\n",
    "    l = 1\n",
    "    moves = []\n",
    "    \n",
    "    while l < steps:\n",
    "        moves.append(node)\n",
    "        next = np.random.choice(G[node])\n",
    "        #print(next)\n",
    "        node = next\n",
    "        l += 1\n",
    "    return moves"
   ]
  },
  {
   "cell_type": "markdown",
   "metadata": {},
   "source": [
    "## Exercise 2.2\n",
    "\n",
    "Modify your random walk algorithm so that:\n",
    "\n",
    "- It takes in on a weighed graph's adjacency matrix (a numpy matrix). \n",
    "\n",
    "- The probability to go from node A to node B should be proportional to the weight on their edge (relative to the other edges starting at node A).\n",
    "\n",
    "Example:\n",
    "```\n",
    "G = np.array([\n",
    "    [0, 0.5, 0, 0.5],\n",
    "    [0.5, 0, 0, 0.5],\n",
    "    [0.25, 0.25, 0.25, 0.25],\n",
    "    [0.5, 0.5, 0, 0],\n",
    "])\n",
    "\n",
    "random_walk(G, 0, 4) -> [0, 1, 0, 3]\n",
    "```\n",
    "\n",
    "Here, `node 0` would give us 50% chance to transition to `node 1` and 50% chance to transition to `node 3`.\n",
    "\n",
    "Then `node 1` would give us 50% chance to transition to `node 0` and 50% to `node 3`, etc."
   ]
  },
  {
   "cell_type": "code",
   "execution_count": 5,
   "metadata": {},
   "outputs": [],
   "source": [
    "import numpy as np\n",
    "\n",
    "G = np.array([\n",
    "    [0, 0.5, 0, 0.5],\n",
    "    [0.5, 0, 0, 0.5],\n",
    "    [0.25, 0.25, 0.25, 0.25],\n",
    "    [0.5, 0.5, 0, 0],\n",
    "])\n",
    "\n",
    "def random_walk_matrix(G, node, steps):\n",
    "    l = 1\n",
    "    moves = []\n",
    "    \n",
    "    while l < steps:\n",
    "        moves.append(node)\n",
    "        next = np.random.choice(len(G),p=G[node])\n",
    "        #print(next)\n",
    "        node = next\n",
    "        l += 1\n",
    "    return moves"
   ]
  },
  {
   "cell_type": "markdown",
   "metadata": {},
   "source": [
    "\n",
    "# (stretch) Exercise 3: Dijkstra's Shortest Path Algorithm\n",
    "\n",
    "Dijkstra's algorithm uses breadth first search to find the **shortest path** between two nodes in a graph.\n",
    "\n",
    "It goes like this:\n",
    "\n",
    "----\n",
    "\n",
    "Let the node at which we are starting be called the initial node. Let the distance of node Y be the distance from the initial node to Y. Dijkstra's algorithm will assign some initial distance values and will try to improve them step by step.\n",
    "\n",
    "1. Mark all nodes unvisited. Create a set of all the unvisited nodes called the unvisited set.\n",
    "\n",
    "2. Assign to every node a tentative distance value: set it to zero for our initial node and to infinity for all other nodes. Set the initial node as current.\n",
    "\n",
    "3. For the current node, consider all of its unvisited neighbours and calculate their tentative distances through the current node. Compare the newly calculated tentative distance to the current assigned value and assign the smaller one. For example, if the current node A is marked with a distance of 6, and the edge connecting it with a neighbour B has length 2, then the distance to B through A will be 6 + 2 = 8. If B was previously marked with a distance greater than 8 then change it to 8. Otherwise, the current value will be kept.\n",
    "\n",
    "4. When we are done considering all of the unvisited neighbours of the current node, mark the current node as visited and remove it from the unvisited set. A visited node will never be checked again.\n",
    "\n",
    "5. If the destination node has been marked visited (when planning a route between two specific nodes) or if the smallest tentative distance among the nodes in the unvisited set is infinity (when planning a complete traversal; occurs when there is no connection between the initial node and remaining unvisited nodes), then stop. The algorithm has finished.\n",
    "\n",
    "6. Otherwise, select the unvisited node that is marked with the smallest tentative distance, set it as the new \"current node\", and go back to step 3.\n",
    "\n",
    "----\n",
    "\n",
    "Here is a GIF of it in action:\n",
    "\n",
    "![](Dijkstras_progress_animation.gif)\n",
    "\n",
    "Implement `shortest_path(G, start_node, end_node)` which takes in a networkX graph, a starting node and an end node and outputs a list of nodes which is the shortest path between the start and end.\n",
    "\n",
    "You can use networkX's shortest path function to test your result, but not to implement it."
   ]
  },
  {
   "cell_type": "code",
   "execution_count": null,
   "metadata": {},
   "outputs": [],
   "source": []
  }
 ],
 "metadata": {
  "colab": {
   "authorship_tag": "ABX9TyO0/qthhJY5M8e1LhZiBYHZ",
   "collapsed_sections": [],
   "name": "Workshop Graphs.ipynb",
   "provenance": []
  },
  "kernelspec": {
   "display_name": "Python 3",
   "language": "python",
   "name": "python3"
  },
  "language_info": {
   "codemirror_mode": {
    "name": "ipython",
    "version": 3
   },
   "file_extension": ".py",
   "mimetype": "text/x-python",
   "name": "python",
   "nbconvert_exporter": "python",
   "pygments_lexer": "ipython3",
   "version": "3.8.3"
  }
 },
 "nbformat": 4,
 "nbformat_minor": 4
}
